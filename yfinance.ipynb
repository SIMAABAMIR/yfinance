{
 "cells": [
  {
   "cell_type": "code",
   "execution_count": 2,
   "metadata": {},
   "outputs": [
    {
     "name": "stdout",
     "output_type": "stream",
     "text": [
      "Collecting yfinance\n",
      "Requirement already satisfied: multitasking>=0.0.7 in c:\\programdata\\anaconda3\\lib\\site-packages (from yfinance) (0.0.9)\n",
      "Requirement already satisfied: numpy>=1.15 in c:\\programdata\\anaconda3\\lib\\site-packages (from yfinance) (1.16.4)\n",
      "Requirement already satisfied: requests>=2.20 in c:\\programdata\\anaconda3\\lib\\site-packages (from yfinance) (2.22.0)\n",
      "Requirement already satisfied: pandas>=0.24 in c:\\programdata\\anaconda3\\lib\\site-packages (from yfinance) (0.24.2)\n",
      "Collecting lxml>=4.5.1 (from yfinance)\n",
      "  Using cached https://files.pythonhosted.org/packages/9e/5e/171ee9d40a600f565fe691ec5bf7596247ec62cfb2edc00c91afe8ea837b/lxml-4.6.3-cp37-cp37m-win_amd64.whl\n",
      "Requirement already satisfied: urllib3!=1.25.0,!=1.25.1,<1.26,>=1.21.1 in c:\\programdata\\anaconda3\\lib\\site-packages (from requests>=2.20->yfinance) (1.24.2)\n",
      "Requirement already satisfied: certifi>=2017.4.17 in c:\\programdata\\anaconda3\\lib\\site-packages (from requests>=2.20->yfinance) (2019.11.28)\n",
      "Requirement already satisfied: idna<2.9,>=2.5 in c:\\programdata\\anaconda3\\lib\\site-packages (from requests>=2.20->yfinance) (2.8)\n",
      "Requirement already satisfied: chardet<3.1.0,>=3.0.2 in c:\\programdata\\anaconda3\\lib\\site-packages (from requests>=2.20->yfinance) (3.0.4)\n",
      "Requirement already satisfied: pytz>=2011k in c:\\programdata\\anaconda3\\lib\\site-packages (from pandas>=0.24->yfinance) (2019.1)\n",
      "Requirement already satisfied: python-dateutil>=2.5.0 in c:\\programdata\\anaconda3\\lib\\site-packages (from pandas>=0.24->yfinance) (2.8.0)\n",
      "Requirement already satisfied: six>=1.5 in c:\\programdata\\anaconda3\\lib\\site-packages (from python-dateutil>=2.5.0->pandas>=0.24->yfinance) (1.12.0)\n",
      "Installing collected packages: lxml, yfinance\n",
      "Successfully installed lxml-4.6.3 yfinance-0.1.63\n",
      "Note: you may need to restart the kernel to use updated packages.\n"
     ]
    },
    {
     "name": "stderr",
     "output_type": "stream",
     "text": [
      "  WARNING: The script sample.exe is installed in 'C:\\Users\\simab\\AppData\\Roaming\\Python\\Python37\\Scripts' which is not on PATH.\n",
      "  Consider adding this directory to PATH or, if you prefer to suppress this warning, use --no-warn-script-location.\n"
     ]
    }
   ],
   "source": [
    "pip install yfinance --user"
   ]
  },
  {
   "cell_type": "code",
   "execution_count": 1,
   "metadata": {},
   "outputs": [],
   "source": [
    "import yfinance as yf"
   ]
  },
  {
   "cell_type": "code",
   "execution_count": 2,
   "metadata": {},
   "outputs": [],
   "source": [
    "def last_close_price(symbol):\n",
    "    return yf.Ticker(symbol).history('1d')['Close']"
   ]
  },
  {
   "cell_type": "code",
   "execution_count": 3,
   "metadata": {},
   "outputs": [
    {
     "name": "stdout",
     "output_type": "stream",
     "text": [
      "Please enter ticker symbol to know it's last closing price : :\n",
      "msft\n"
     ]
    },
    {
     "data": {
      "text/plain": [
       "Date\n",
       "2021-08-02    284.820007\n",
       "Name: Close, dtype: float64"
      ]
     },
     "execution_count": 3,
     "metadata": {},
     "output_type": "execute_result"
    }
   ],
   "source": [
    "# print(\"Please enter ticker symbol to know it's last closing price : \")\n",
    "ticker_symbol = input(\"Please enter ticker symbol to know it's last closing price :\\n\")\n",
    "last_close_price(ticker_symbol)"
   ]
  },
  {
   "cell_type": "code",
   "execution_count": null,
   "metadata": {},
   "outputs": [],
   "source": []
  },
  {
   "cell_type": "code",
   "execution_count": 38,
   "metadata": {},
   "outputs": [
    {
     "name": "stdout",
     "output_type": "stream",
     "text": [
      "{'zip': '98052-6399', 'sector': 'Technology', 'longBusinessSummary': 'Microsoft Corporation develops, licenses, and supports software, services, devices, and solutions worldwide. Its Productivity and Business Processes segment offers Office, Exchange, SharePoint, Microsoft Teams, Office 365 Security and Compliance, and Skype for Business, as well as related Client Access Licenses (CAL); Skype, Outlook.com, OneDrive, and LinkedIn; and Dynamics 365, a set of cloud-based and on-premises business solutions for small and medium businesses, organizations, and enterprise divisions. Its Intelligent Cloud segment licenses SQL, Windows Servers, Visual Studio, System Center, and related CALs; GitHub that provides a collaboration platform and code hosting service for developers; and Azure, a cloud platform. It also offers support services and Microsoft consulting services to assist customers in developing, deploying, and managing Microsoft server and desktop solutions; and training and certification to developers and IT professionals on Microsoft products. Its More Personal Computing segment provides Windows original equipment manufacturer (OEM) licensing and other non-volume licensing of the Windows operating system; Windows Commercial, such as volume licensing of the Windows operating system, Windows cloud services, and other Windows commercial offerings; patent licensing; Windows Internet of Things; and MSN advertising. It also offers Surface, PC accessories, PCs, tablets, gaming and entertainment consoles, and other devices; Gaming, including Xbox hardware, and Xbox content and services; video games and third-party video game royalties; and Search, including Bing and Microsoft advertising. It sells its products through OEMs, distributors, and resellers; and directly through digital marketplaces, online stores, and retail stores. It has a collaboration with Dynatrace, Inc., Morgan Stanley, Micro Focus, WPP plc, and iCIMS, Inc. Microsoft Corporation was founded in 1975 and is headquartered in Redmond, Washington.', 'city': 'Redmond', 'phone': '425 882 8080', 'state': 'WA', 'country': 'United States', 'companyOfficers': [], 'website': 'http://www.microsoft.com', 'maxAge': 1, 'address1': 'One Microsoft Way', 'industry': 'Software—Infrastructure', 'ebitdaMargins': 0.48547, 'profitMargins': 0.36451998, 'grossMargins': 0.68926, 'operatingCashflow': 76740001792, 'revenueGrowth': 0.213, 'operatingMargins': 0.41595, 'ebitda': 81602002944, 'targetLowPrice': 256.7, 'recommendationKey': 'buy', 'grossProfits': 115856000000, 'freeCashflow': 46410498048, 'targetMedianPrice': 300, 'currentPrice': 284.91, 'earningsGrowth': 0.486, 'currentRatio': 2.08, 'returnOnAssets': 0.13761, 'numberOfAnalystOpinions': 33, 'targetMeanPrice': 298.92, 'debtToEquity': 57.189, 'returnOnEquity': 0.47079, 'targetHighPrice': 340, 'totalCash': 130333999104, 'totalDebt': 81202003968, 'totalRevenue': 168087994368, 'totalCashPerShare': 17.334, 'financialCurrency': 'USD', 'revenuePerShare': 22.272, 'quickRatio': 1.899, 'recommendationMean': 1.6, 'exchange': 'NMS', 'shortName': 'Microsoft Corporation', 'longName': 'Microsoft Corporation', 'exchangeTimezoneName': 'America/New_York', 'exchangeTimezoneShortName': 'EDT', 'isEsgPopulated': False, 'gmtOffSetMilliseconds': '-14400000', 'quoteType': 'EQUITY', 'symbol': 'MSFT', 'messageBoardId': 'finmb_21835', 'market': 'us_market', 'annualHoldingsTurnover': None, 'enterpriseToRevenue': 12.452, 'beta3Year': None, 'enterpriseToEbitda': 25.65, '52WeekChange': 0.31573844, 'morningStarRiskRating': None, 'forwardEps': 8.37, 'revenueQuarterlyGrowth': None, 'sharesOutstanding': 7519000064, 'fundInceptionDate': None, 'annualReportExpenseRatio': None, 'totalAssets': None, 'bookValue': 18.884, 'sharesShort': 56416544, 'sharesPercentSharesOut': 0.0075, 'fundFamily': None, 'lastFiscalYearEnd': 1625011200, 'heldPercentInstitutions': 0.72281, 'netIncomeToCommon': 61270999040, 'trailingEps': 8.05, 'lastDividendValue': 0.56, 'SandP52WeekChange': 0.33407593, 'priceToBook': 15.087375, 'heldPercentInsiders': 0.00078, 'nextFiscalYearEnd': 1688083200, 'yield': None, 'mostRecentQuarter': 1625011200, 'shortRatio': 2.36, 'sharesShortPreviousMonthDate': 1623715200, 'floatShares': 7511105050, 'beta': 0.787812, 'enterpriseValue': 2093106331648, 'priceHint': 2, 'threeYearAverageReturn': None, 'lastSplitDate': 1045526400, 'lastSplitFactor': '2:1', 'legalType': None, 'lastDividendDate': 1621382400, 'morningStarOverallRating': None, 'earningsQuarterlyGrowth': 0.469, 'priceToSalesTrailing12Months': 12.744743, 'dateShortInterest': 1626307200, 'pegRatio': 2.07, 'ytdReturn': None, 'forwardPE': 34.03943, 'lastCapGain': None, 'shortPercentOfFloat': 0.0075, 'sharesShortPriorMonth': 48137624, 'impliedSharesOutstanding': None, 'category': None, 'fiveYearAverageReturn': None, 'previousClose': 286.5, 'regularMarketOpen': 285.17, 'twoHundredDayAverage': 250.68497, 'trailingAnnualDividendYield': 0.0078185, 'payoutRatio': 0.272, 'volume24Hr': None, 'regularMarketDayHigh': 286.6401, 'navPrice': None, 'averageDailyVolume10Day': 25370733, 'regularMarketPreviousClose': 286.5, 'fiftyDayAverage': 274.81323, 'trailingAnnualDividendRate': 2.24, 'open': 285.17, 'toCurrency': None, 'averageVolume10days': 25370733, 'expireDate': None, 'algorithm': None, 'dividendRate': 2.24, 'exDividendDate': 1629244800, 'circulatingSupply': None, 'startDate': None, 'regularMarketDayLow': 283.91, 'currency': 'USD', 'trailingPE': 35.392548, 'regularMarketVolume': 20944846, 'lastMarket': None, 'maxSupply': None, 'openInterest': None, 'marketCap': 2142238277632, 'volumeAllCurrencies': None, 'strikePrice': None, 'averageVolume': 24227047, 'dayLow': 283.91, 'ask': 0, 'askSize': 1200, 'volume': 20944846, 'fiftyTwoWeekHigh': 290.15, 'fromCurrency': None, 'fiveYearAvgDividendYield': 1.54, 'fiftyTwoWeekLow': 196.25, 'bid': 0, 'tradeable': False, 'dividendYield': 0.007900001, 'bidSize': 1400, 'dayHigh': 286.6401, 'regularMarketPrice': 284.91, 'logo_url': 'https://logo.clearbit.com/microsoft.com'}\n"
     ]
    }
   ],
   "source": [
    "msft = yf.Ticker(\"MSFT\")\n",
    "# get stock info\n",
    "print(msft.info)\n",
    "msft?"
   ]
  },
  {
   "cell_type": "code",
   "execution_count": 34,
   "metadata": {},
   "outputs": [
    {
     "name": "stdout",
     "output_type": "stream",
     "text": [
      "Date\n",
      "2021-07-30    284.910004\n",
      "Name: Close, dtype: float64\n"
     ]
    }
   ],
   "source": [
    "# keys = ['shortName', 'symbol', 'regularMarketPreviousClose']\n",
    "# for key in keys:\n",
    "print (yf.Ticker('MSFT').history('1d')['Close'])"
   ]
  },
  {
   "cell_type": "code",
   "execution_count": 35,
   "metadata": {},
   "outputs": [
    {
     "data": {
      "text/html": [
       "<div>\n",
       "<style scoped>\n",
       "    .dataframe tbody tr th:only-of-type {\n",
       "        vertical-align: middle;\n",
       "    }\n",
       "\n",
       "    .dataframe tbody tr th {\n",
       "        vertical-align: top;\n",
       "    }\n",
       "\n",
       "    .dataframe thead th {\n",
       "        text-align: right;\n",
       "    }\n",
       "</style>\n",
       "<table border=\"1\" class=\"dataframe\">\n",
       "  <thead>\n",
       "    <tr style=\"text-align: right;\">\n",
       "      <th></th>\n",
       "      <th>Open</th>\n",
       "      <th>High</th>\n",
       "      <th>Low</th>\n",
       "      <th>Close</th>\n",
       "      <th>Volume</th>\n",
       "      <th>Dividends</th>\n",
       "      <th>Stock Splits</th>\n",
       "    </tr>\n",
       "    <tr>\n",
       "      <th>Date</th>\n",
       "      <th></th>\n",
       "      <th></th>\n",
       "      <th></th>\n",
       "      <th></th>\n",
       "      <th></th>\n",
       "      <th></th>\n",
       "      <th></th>\n",
       "    </tr>\n",
       "  </thead>\n",
       "  <tbody>\n",
       "    <tr>\n",
       "      <th>2021-07-30</th>\n",
       "      <td>285.170013</td>\n",
       "      <td>286.640106</td>\n",
       "      <td>283.910004</td>\n",
       "      <td>284.910004</td>\n",
       "      <td>20944846</td>\n",
       "      <td>0</td>\n",
       "      <td>0</td>\n",
       "    </tr>\n",
       "  </tbody>\n",
       "</table>\n",
       "</div>"
      ],
      "text/plain": [
       "                  Open        High         Low       Close    Volume  \\\n",
       "Date                                                                   \n",
       "2021-07-30  285.170013  286.640106  283.910004  284.910004  20944846   \n",
       "\n",
       "            Dividends  Stock Splits  \n",
       "Date                                 \n",
       "2021-07-30          0             0  "
      ]
     },
     "execution_count": 35,
     "metadata": {},
     "output_type": "execute_result"
    }
   ],
   "source": [
    "#define the ticker symbol\n",
    "tickerSymbol = 'MSFT'\n",
    "#get data on this ticker\n",
    "tickerData = yf.Ticker(tickerSymbol)\n",
    "tickerDf = tickerData.history(period='1d')\n",
    "tickerDf.head()"
   ]
  },
  {
   "cell_type": "code",
   "execution_count": 36,
   "metadata": {},
   "outputs": [],
   "source": [
    "tickerData?"
   ]
  },
  {
   "cell_type": "code",
   "execution_count": null,
   "metadata": {},
   "outputs": [],
   "source": [
    "tickerDf = tickerData.history(period='1d')"
   ]
  },
  {
   "cell_type": "code",
   "execution_count": 20,
   "metadata": {},
   "outputs": [],
   "source": [
    "def last_close_price(symbol):\n",
    "    return yf.Ticker(symbol).history('1d')['Close']"
   ]
  },
  {
   "cell_type": "code",
   "execution_count": 21,
   "metadata": {},
   "outputs": [
    {
     "data": {
      "text/plain": [
       "Date\n",
       "2021-07-30    1499.930054\n",
       "Name: Close, dtype: float64"
      ]
     },
     "execution_count": 21,
     "metadata": {},
     "output_type": "execute_result"
    }
   ],
   "source": [
    "last_close_price('SHOP')"
   ]
  },
  {
   "cell_type": "code",
   "execution_count": 16,
   "metadata": {},
   "outputs": [
    {
     "data": {
      "text/plain": [
       "Date\n",
       "2021-07-30    356.299988\n",
       "Name: Close, dtype: float64"
      ]
     },
     "execution_count": 16,
     "metadata": {},
     "output_type": "execute_result"
    }
   ],
   "source": [
    "def get_closing_prices(symbol, period=\"1d\"):  # default value of 1 day.\n",
    "    try:\n",
    "        ticker = yf.Ticker(symbol)\n",
    "        data = ticker.history(period)\n",
    "        return data[\"Close\"]\n",
    "    except Exception as e:\n",
    "        print(\"Failed to get required data.\", e)\n",
    "\n",
    "\n",
    "ticker = \"FB\"\n",
    "period = \"1d\"\n",
    "prices_data = get_closing_prices(ticker, period)\n",
    "prices_data"
   ]
  },
  {
   "cell_type": "code",
   "execution_count": null,
   "metadata": {},
   "outputs": [],
   "source": [
    "\n",
    "\n",
    "\n",
    "# get historical market data\n",
    "hist = msft.history(period=\"5d\")"
   ]
  },
  {
   "cell_type": "code",
   "execution_count": null,
   "metadata": {},
   "outputs": [],
   "source": []
  }
 ],
 "metadata": {
  "kernelspec": {
   "display_name": "Python 3",
   "language": "python",
   "name": "python3"
  },
  "language_info": {
   "codemirror_mode": {
    "name": "ipython",
    "version": 3
   },
   "file_extension": ".py",
   "mimetype": "text/x-python",
   "name": "python",
   "nbconvert_exporter": "python",
   "pygments_lexer": "ipython3",
   "version": "3.7.3"
  }
 },
 "nbformat": 4,
 "nbformat_minor": 2
}
