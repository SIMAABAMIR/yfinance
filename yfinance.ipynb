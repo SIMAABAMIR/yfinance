{
 "cells": [
  {
   "cell_type": "code",
   "execution_count": 1,
   "metadata": {},
   "outputs": [
    {
     "name": "stdout",
     "output_type": "stream",
     "text": [
      "Requirement already satisfied: yfinance in /home/simaab/.local/lib/python3.6/site-packages (0.1.63)\n",
      "Requirement already satisfied: pandas>=0.24 in /home/simaab/.local/lib/python3.6/site-packages (from yfinance) (1.1.5)\n",
      "Requirement already satisfied: requests>=2.20 in /home/simaab/.local/lib/python3.6/site-packages (from yfinance) (2.26.0)\n",
      "Requirement already satisfied: lxml>=4.5.1 in /home/simaab/.local/lib/python3.6/site-packages (from yfinance) (4.6.3)\n",
      "Requirement already satisfied: numpy>=1.15 in /home/simaab/.local/lib/python3.6/site-packages (from yfinance) (1.19.5)\n",
      "Requirement already satisfied: multitasking>=0.0.7 in /home/simaab/.local/lib/python3.6/site-packages (from yfinance) (0.0.9)\n",
      "Requirement already satisfied: python-dateutil>=2.7.3 in /home/simaab/.local/lib/python3.6/site-packages (from pandas>=0.24->yfinance) (2.8.2)\n",
      "Requirement already satisfied: pytz>=2017.2 in /home/simaab/anaconda3/lib/python3.6/site-packages (from pandas>=0.24->yfinance) (2017.2)\n",
      "Requirement already satisfied: six>=1.5 in /home/simaab/anaconda3/lib/python3.6/site-packages (from python-dateutil>=2.7.3->pandas>=0.24->yfinance) (1.12.0)\n",
      "Requirement already satisfied: idna<4,>=2.5 in /home/simaab/anaconda3/lib/python3.6/site-packages (from requests>=2.20->yfinance) (2.6)\n",
      "Requirement already satisfied: certifi>=2017.4.17 in /home/simaab/anaconda3/lib/python3.6/site-packages (from requests>=2.20->yfinance) (2018.4.16)\n",
      "Requirement already satisfied: urllib3<1.27,>=1.21.1 in /home/simaab/anaconda3/lib/python3.6/site-packages (from requests>=2.20->yfinance) (1.22)\n",
      "Requirement already satisfied: charset-normalizer~=2.0.0 in /home/simaab/.local/lib/python3.6/site-packages (from requests>=2.20->yfinance) (2.0.4)\n"
     ]
    }
   ],
   "source": [
    "# command to install on linux\n",
    "!pip install yfinance --user\n",
    "\n",
    "# command to install yfinance on windows\n",
    "# pip install yfinance --user\n"
   ]
  },
  {
   "cell_type": "code",
   "execution_count": 2,
   "metadata": {
    "collapsed": true
   },
   "outputs": [],
   "source": [
    "import yfinance as yf"
   ]
  },
  {
   "cell_type": "code",
   "execution_count": 5,
   "metadata": {
    "collapsed": true
   },
   "outputs": [],
   "source": [
    "\"\"\"\n",
    "Function to take ticker and return it's last closing price\n",
    "\"\"\"\n",
    "def last_close_price(symbol):\n",
    "    print(yf.Ticker(symbol).history('1d')['Close'])"
   ]
  },
  {
   "cell_type": "code",
   "execution_count": 6,
   "metadata": {},
   "outputs": [
    {
     "name": "stdout",
     "output_type": "stream",
     "text": [
      "Please enter ticker symbol to know it's last closing price :\n",
      "msft\n",
      "Date\n",
      "2021-08-02    284.820007\n",
      "Name: Close, dtype: float64\n"
     ]
    }
   ],
   "source": [
    "# MSFT for Microsfot\n",
    "ticker_symbol = input(\"Please enter ticker symbol to know it's last closing price :\\n\")\n",
    "last_close_price(ticker_symbol)"
   ]
  }
 ],
 "metadata": {
  "kernelspec": {
   "display_name": "Python 3",
   "language": "python",
   "name": "python3"
  },
  "language_info": {
   "codemirror_mode": {
    "name": "ipython",
    "version": 3
   },
   "file_extension": ".py",
   "mimetype": "text/x-python",
   "name": "python",
   "nbconvert_exporter": "python",
   "pygments_lexer": "ipython3",
   "version": "3.6.3"
  }
 },
 "nbformat": 4,
 "nbformat_minor": 2
}
