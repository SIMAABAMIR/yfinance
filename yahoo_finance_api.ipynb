{
 "cells": [
  {
   "cell_type": "code",
   "execution_count": 1,
   "metadata": {
    "collapsed": true
   },
   "outputs": [],
   "source": [
    "import requests\n",
    "import json\n",
    "from requests.exceptions import HTTPError"
   ]
  },
  {
   "cell_type": "code",
   "execution_count": 3,
   "metadata": {
    "scrolled": true
   },
   "outputs": [
    {
     "name": "stdout",
     "output_type": "stream",
     "text": [
      "Please enter ticker symbol to know it's last closing price :\n",
      "msft\n",
      "Regular Market Price for MSFT : $288.33\n",
      "Regular Market Previous Price for MSFT : $289.46\n"
     ]
    }
   ],
   "source": [
    "try:\n",
    "    url = \"https://apidojo-yahoo-finance-v1.p.rapidapi.com/stock/v2/get-summary\"\n",
    "\n",
    "    # MSFT for Microsoft\n",
    "    ticker = input(\"Please enter ticker symbol to know it's last closing price :\\n\")\n",
    "\n",
    "\n",
    "    querystring = {\"symbol\":ticker,\"region\":\"US\"}\n",
    "\n",
    "    headers = {\n",
    "        'x-rapidapi-key': \"266c9b736dmsh35b2cf8ed6a3bd3p104e9cjsnf33eb85d2073\",\n",
    "        'x-rapidapi-host': \"apidojo-yahoo-finance-v1.p.rapidapi.com\"\n",
    "        }\n",
    "\n",
    "    response = requests.get(url, headers=headers, params=querystring)\n",
    "\n",
    "    # Use the json module to load response into a dictionary.\n",
    "    response_dict = json.loads(response.text)\n",
    "\n",
    "    print ('Regular Market Price for {} : ${}'.format(ticker.upper(),response_dict['price']['regularMarketPrice']['fmt']))\n",
    "\n",
    "    print ('Regular Market Previous Price for {} : ${}'.format(ticker.upper(),response_dict['price']['regularMarketPreviousClose']['fmt']))\n",
    "\n",
    "except HTTPError as http_err:\n",
    "    print(f'HTTP error occurred: {http_err}')\n",
    "except Exception as err:\n",
    "    print(f'Please check ticker - {ticker.upper()} / Other error occurred: {err}')"
   ]
  },
  {
   "cell_type": "code",
   "execution_count": 4,
   "metadata": {},
   "outputs": [
    {
     "name": "stdout",
     "output_type": "stream",
     "text": [
      "2.26.0\n"
     ]
    }
   ],
   "source": [
    "print(requests.__version__)"
   ]
  },
  {
   "cell_type": "code",
   "execution_count": 5,
   "metadata": {},
   "outputs": [
    {
     "name": "stdout",
     "output_type": "stream",
     "text": [
      "2.0.9\n"
     ]
    }
   ],
   "source": [
    "print(json.__version__)"
   ]
  },
  {
   "cell_type": "code",
   "execution_count": null,
   "metadata": {
    "collapsed": true
   },
   "outputs": [],
   "source": []
  }
 ],
 "metadata": {
  "kernelspec": {
   "display_name": "Python 3",
   "language": "python",
   "name": "python3"
  },
  "language_info": {
   "codemirror_mode": {
    "name": "ipython",
    "version": 3
   },
   "file_extension": ".py",
   "mimetype": "text/x-python",
   "name": "python",
   "nbconvert_exporter": "python",
   "pygments_lexer": "ipython3",
   "version": "3.6.3"
  }
 },
 "nbformat": 4,
 "nbformat_minor": 2
}
